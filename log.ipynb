{
 "cells": [
  {
   "cell_type": "markdown",
   "metadata": {},
   "source": [
    "02.04.2025\n",
    "Тема: INTRO\n",
    "1. зарегистрировались на новых площадках: Github, Kaggle, ODS.AI\n",
    "2. Скачали: GitHub Desktop, Cursor, VS CODE, Python (CPython), Conda\n",
    "3. Узнали новые понятия Репозиторий и Коммит #со слезами\n",
    "4. Просмотрели документацию по линтерам\n",
    "5. Ознакомились с системой обучения\n"
   ]
  }
 ],
 "metadata": {
  "language_info": {
   "name": "python"
  }
 },
 "nbformat": 4,
 "nbformat_minor": 2
}
